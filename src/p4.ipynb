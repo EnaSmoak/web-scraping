{
 "cells": [
  {
   "cell_type": "code",
   "execution_count": 20,
   "metadata": {},
   "outputs": [],
   "source": [
    "import re\n",
    "import datetime\n",
    "import requests\n",
    "import numpy as np\n",
    "import pandas as pd\n",
    "from bs4 import BeautifulSoup"
   ]
  },
  {
   "cell_type": "code",
   "execution_count": 38,
   "metadata": {},
   "outputs": [],
   "source": [
    "# get property information\n",
    "def property_info(properties_list):\n",
    "    property_name = []\n",
    "    property_beds = []\n",
    "    property_showers = []\n",
    "    property_garages = []\n",
    "    property_area = []\n",
    "    property_description = []\n",
    "    property_price = []\n",
    "    property_currency = []\n",
    "    property_rent_period = []\n",
    "    property_urls = []\n",
    "    property_address = []\n",
    "    property_time_posted = []\n",
    "    \n",
    "    \n",
    "    for link in properties_list:\n",
    "        url = base_url + link.find('a').attrs['href']\n",
    "        names = (link.find('div', {'class':'mqs-prop-dt-wrapper'}).find('h2').text).strip()\n",
    "        beds = noValue(link.find('li', {'class': 'bed'}))\n",
    "        showers = noValue(link.find('li', {'class': 'shower'}))\n",
    "        garages = noValue(link.find('li', {'class': 'garage'}))\n",
    "        area = noValue(link.find('li', {'class': 'area'}))\n",
    "        address = link.find('a').img['title'].split('at')[1]\n",
    "        time_posted = link.find('p', {'class': 'wsnr'}).text\n",
    "                       \n",
    "        description = link.find('p', {'class': ''}).text\n",
    "        price, currency, rent_period = extractPriceCurrencyPeriod(link.find('p', {'class': 'h3'}).text)\n",
    "        \n",
    "        \n",
    "        property_urls.append(url)\n",
    "        property_name.append(names)\n",
    "        property_beds.append(beds)\n",
    "        property_showers.append(showers)\n",
    "        property_garages.append(garages)\n",
    "        property_area.append(area)\n",
    "        property_description.append(description)\n",
    "        property_price.append(price)\n",
    "        property_currency.append(currency)\n",
    "        property_rent_period.append(rent_period)\n",
    "        property_address.append(address)\n",
    "        property_time_posted.append(time_posted)\n",
    "        \n",
    "    df_properties = pd.DataFrame({'property': property_name,\n",
    "                                  'beds': property_beds,\n",
    "                                  'showers': property_showers,\n",
    "                                  'garage': property_garages,\n",
    "                                  'area': property_area,\n",
    "                                  'description': property_description,\n",
    "                                  'price': property_price,\n",
    "                                  'currency': property_currency,\n",
    "                                  'rent_period': property_rent_period,\n",
    "                                  'url': property_urls,\n",
    "                                  'address': property_address,\n",
    "                                  'time_posted': property_time_posted\n",
    "                                 })\n",
    "    return(df_properties)\n",
    "\n",
    "#function to extract price\n",
    "# def extractPrice(x):\n",
    "#     x = x.replace('Price', '').replace(':', '').replace(',', '')\n",
    "#     if 'GH₵' in x:\n",
    "#         price = x.strip().replace('GH₵', '').split('/')[0].strip()\n",
    "#         currency = 'GH₵'\n",
    "#     elif '$' in x:\n",
    "#         price = x.strip().replace('$', '').split('/')[0].strip()\n",
    "#         currency = '$'\n",
    "#     else:\n",
    "#         price = 'Not Available'\n",
    "#         currency = None\n",
    "#     return currency, price\n",
    "\n",
    "def extractPriceCurrencyPeriod(x):\n",
    "    x = x.replace('Price', '').replace(':', '').replace(',', '')\n",
    "    if 'GH₵' in x:\n",
    "        a = x.strip().replace('GH₵', '').split('/')\n",
    "        price = a[0].strip()\n",
    "        currency = 'GH₵'\n",
    "        period = a[1] if len(a) > 1 else None\n",
    "    elif '$' in x:\n",
    "        a = x.strip().replace('$', '').split('/')\n",
    "        price = a[0].strip()\n",
    "        currency = '$'\n",
    "        period = a[1] if len(a) > 1 else None\n",
    "    else:\n",
    "        price = 'Not Available'\n",
    "        currency = None\n",
    "        period = None\n",
    "    return price, currency, period\n",
    "\n",
    "# function to extract currency\n",
    "#def extratCurrency(x):\n",
    "  \n",
    "    \n",
    "\n",
    "# add 0 where there is empty / no value exists                    \n",
    "def noValue(x):\n",
    "    if x is None:\n",
    "        return 0\n",
    "    else:\n",
    "        return x.text\n",
    "                    \n",
    "# write to csv\n",
    "def save_data(df):\n",
    "    file_time = datetime.datetime.now()\n",
    "    file_time = file_time.strftime('%Y-%m-%d')\n",
    "    file_name = 'meqasa_'+file_time+'.csv'\n",
    "    \n",
    "    df.to_csv('../data/'+file_name, index=False)\n",
    "                    \n",
    "                    "
   ]
  },
  {
   "cell_type": "code",
   "execution_count": 39,
   "metadata": {},
   "outputs": [],
   "source": [
    "df_final = pd.DataFrame([])\n",
    "\n",
    "base_url = 'https://meqasa.com'\n",
    "results  = requests.get('https://meqasa.com/houses-for-rent-in-ghana')\n",
    "\n",
    "soup = BeautifulSoup(results.content, 'lxml')\n",
    "properties_list = soup.find_all('div', {'class': 'row mqs-featured-prop-inner-wrap clickable'})"
   ]
  },
  {
   "cell_type": "code",
   "execution_count": 40,
   "metadata": {},
   "outputs": [
    {
     "data": {
      "text/plain": [
       "51"
      ]
     },
     "execution_count": 40,
     "metadata": {},
     "output_type": "execute_result"
    }
   ],
   "source": [
    "len(properties_list)"
   ]
  },
  {
   "cell_type": "code",
   "execution_count": 41,
   "metadata": {},
   "outputs": [
    {
     "ename": "FileNotFoundError",
     "evalue": "[Errno 2] No such file or directory: '../data/meqasa_2019-11-13.csv'",
     "output_type": "error",
     "traceback": [
      "\u001b[0;31m---------------------------------------------------------------------------\u001b[0m",
      "\u001b[0;31mFileNotFoundError\u001b[0m                         Traceback (most recent call last)",
      "\u001b[0;32m<ipython-input-41-4768b2f0c2b0>\u001b[0m in \u001b[0;36m<module>\u001b[0;34m\u001b[0m\n\u001b[1;32m      1\u001b[0m \u001b[0mdf_final\u001b[0m \u001b[0;34m=\u001b[0m \u001b[0mproperty_info\u001b[0m\u001b[0;34m(\u001b[0m\u001b[0mproperties_list\u001b[0m\u001b[0;34m)\u001b[0m\u001b[0;34m\u001b[0m\u001b[0;34m\u001b[0m\u001b[0m\n\u001b[0;32m----> 2\u001b[0;31m \u001b[0msave_data\u001b[0m\u001b[0;34m(\u001b[0m\u001b[0mdf_final\u001b[0m\u001b[0;34m)\u001b[0m\u001b[0;34m\u001b[0m\u001b[0;34m\u001b[0m\u001b[0m\n\u001b[0m",
      "\u001b[0;32m<ipython-input-38-50c13fa61d67>\u001b[0m in \u001b[0;36msave_data\u001b[0;34m(df)\u001b[0m\n\u001b[1;32m    107\u001b[0m     \u001b[0mfile_name\u001b[0m \u001b[0;34m=\u001b[0m \u001b[0;34m'meqasa_'\u001b[0m\u001b[0;34m+\u001b[0m\u001b[0mfile_time\u001b[0m\u001b[0;34m+\u001b[0m\u001b[0;34m'.csv'\u001b[0m\u001b[0;34m\u001b[0m\u001b[0;34m\u001b[0m\u001b[0m\n\u001b[1;32m    108\u001b[0m \u001b[0;34m\u001b[0m\u001b[0m\n\u001b[0;32m--> 109\u001b[0;31m     \u001b[0mdf\u001b[0m\u001b[0;34m.\u001b[0m\u001b[0mto_csv\u001b[0m\u001b[0;34m(\u001b[0m\u001b[0;34m'../data/'\u001b[0m\u001b[0;34m+\u001b[0m\u001b[0mfile_name\u001b[0m\u001b[0;34m,\u001b[0m \u001b[0mindex\u001b[0m\u001b[0;34m=\u001b[0m\u001b[0;32mFalse\u001b[0m\u001b[0;34m)\u001b[0m\u001b[0;34m\u001b[0m\u001b[0;34m\u001b[0m\u001b[0m\n\u001b[0m\u001b[1;32m    110\u001b[0m \u001b[0;34m\u001b[0m\u001b[0m\n\u001b[1;32m    111\u001b[0m \u001b[0;34m\u001b[0m\u001b[0m\n",
      "\u001b[0;32m~/.local/lib/python3.7/site-packages/pandas/core/generic.py\u001b[0m in \u001b[0;36mto_csv\u001b[0;34m(self, path_or_buf, sep, na_rep, float_format, columns, header, index, index_label, mode, encoding, compression, quoting, quotechar, line_terminator, chunksize, date_format, doublequote, escapechar, decimal)\u001b[0m\n\u001b[1;32m   3226\u001b[0m             \u001b[0mdecimal\u001b[0m\u001b[0;34m=\u001b[0m\u001b[0mdecimal\u001b[0m\u001b[0;34m,\u001b[0m\u001b[0;34m\u001b[0m\u001b[0;34m\u001b[0m\u001b[0m\n\u001b[1;32m   3227\u001b[0m         )\n\u001b[0;32m-> 3228\u001b[0;31m         \u001b[0mformatter\u001b[0m\u001b[0;34m.\u001b[0m\u001b[0msave\u001b[0m\u001b[0;34m(\u001b[0m\u001b[0;34m)\u001b[0m\u001b[0;34m\u001b[0m\u001b[0;34m\u001b[0m\u001b[0m\n\u001b[0m\u001b[1;32m   3229\u001b[0m \u001b[0;34m\u001b[0m\u001b[0m\n\u001b[1;32m   3230\u001b[0m         \u001b[0;32mif\u001b[0m \u001b[0mpath_or_buf\u001b[0m \u001b[0;32mis\u001b[0m \u001b[0;32mNone\u001b[0m\u001b[0;34m:\u001b[0m\u001b[0;34m\u001b[0m\u001b[0;34m\u001b[0m\u001b[0m\n",
      "\u001b[0;32m~/.local/lib/python3.7/site-packages/pandas/io/formats/csvs.py\u001b[0m in \u001b[0;36msave\u001b[0;34m(self)\u001b[0m\n\u001b[1;32m    181\u001b[0m                 \u001b[0mself\u001b[0m\u001b[0;34m.\u001b[0m\u001b[0mmode\u001b[0m\u001b[0;34m,\u001b[0m\u001b[0;34m\u001b[0m\u001b[0;34m\u001b[0m\u001b[0m\n\u001b[1;32m    182\u001b[0m                 \u001b[0mencoding\u001b[0m\u001b[0;34m=\u001b[0m\u001b[0mself\u001b[0m\u001b[0;34m.\u001b[0m\u001b[0mencoding\u001b[0m\u001b[0;34m,\u001b[0m\u001b[0;34m\u001b[0m\u001b[0;34m\u001b[0m\u001b[0m\n\u001b[0;32m--> 183\u001b[0;31m                 \u001b[0mcompression\u001b[0m\u001b[0;34m=\u001b[0m\u001b[0mself\u001b[0m\u001b[0;34m.\u001b[0m\u001b[0mcompression\u001b[0m\u001b[0;34m,\u001b[0m\u001b[0;34m\u001b[0m\u001b[0;34m\u001b[0m\u001b[0m\n\u001b[0m\u001b[1;32m    184\u001b[0m             )\n\u001b[1;32m    185\u001b[0m             \u001b[0mclose\u001b[0m \u001b[0;34m=\u001b[0m \u001b[0;32mTrue\u001b[0m\u001b[0;34m\u001b[0m\u001b[0;34m\u001b[0m\u001b[0m\n",
      "\u001b[0;32m~/.local/lib/python3.7/site-packages/pandas/io/common.py\u001b[0m in \u001b[0;36m_get_handle\u001b[0;34m(path_or_buf, mode, encoding, compression, memory_map, is_text)\u001b[0m\n\u001b[1;32m    397\u001b[0m         \u001b[0;32mif\u001b[0m \u001b[0mencoding\u001b[0m\u001b[0;34m:\u001b[0m\u001b[0;34m\u001b[0m\u001b[0;34m\u001b[0m\u001b[0m\n\u001b[1;32m    398\u001b[0m             \u001b[0;31m# Encoding\u001b[0m\u001b[0;34m\u001b[0m\u001b[0;34m\u001b[0m\u001b[0;34m\u001b[0m\u001b[0m\n\u001b[0;32m--> 399\u001b[0;31m             \u001b[0mf\u001b[0m \u001b[0;34m=\u001b[0m \u001b[0mopen\u001b[0m\u001b[0;34m(\u001b[0m\u001b[0mpath_or_buf\u001b[0m\u001b[0;34m,\u001b[0m \u001b[0mmode\u001b[0m\u001b[0;34m,\u001b[0m \u001b[0mencoding\u001b[0m\u001b[0;34m=\u001b[0m\u001b[0mencoding\u001b[0m\u001b[0;34m,\u001b[0m \u001b[0mnewline\u001b[0m\u001b[0;34m=\u001b[0m\u001b[0;34m\"\"\u001b[0m\u001b[0;34m)\u001b[0m\u001b[0;34m\u001b[0m\u001b[0;34m\u001b[0m\u001b[0m\n\u001b[0m\u001b[1;32m    400\u001b[0m         \u001b[0;32melif\u001b[0m \u001b[0mis_text\u001b[0m\u001b[0;34m:\u001b[0m\u001b[0;34m\u001b[0m\u001b[0;34m\u001b[0m\u001b[0m\n\u001b[1;32m    401\u001b[0m             \u001b[0;31m# No explicit encoding\u001b[0m\u001b[0;34m\u001b[0m\u001b[0;34m\u001b[0m\u001b[0;34m\u001b[0m\u001b[0m\n",
      "\u001b[0;31mFileNotFoundError\u001b[0m: [Errno 2] No such file or directory: '../data/meqasa_2019-11-13.csv'"
     ]
    }
   ],
   "source": [
    "df_final = property_info(properties_list)\n",
    "save_data(df_final)"
   ]
  },
  {
   "cell_type": "code",
   "execution_count": null,
   "metadata": {},
   "outputs": [],
   "source": []
  },
  {
   "cell_type": "code",
   "execution_count": 28,
   "metadata": {},
   "outputs": [
    {
     "name": "stdout",
     "output_type": "stream",
     "text": [
      "Empty DataFrame\n",
      "Columns: []\n",
      "Index: []\n"
     ]
    }
   ],
   "source": [
    "#print 10 rows\n",
    "print(df_final.head(10))"
   ]
  },
  {
   "cell_type": "code",
   "execution_count": 29,
   "metadata": {},
   "outputs": [
    {
     "data": {
      "text/html": [
       "<div>\n",
       "<style scoped>\n",
       "    .dataframe tbody tr th:only-of-type {\n",
       "        vertical-align: middle;\n",
       "    }\n",
       "\n",
       "    .dataframe tbody tr th {\n",
       "        vertical-align: top;\n",
       "    }\n",
       "\n",
       "    .dataframe thead th {\n",
       "        text-align: right;\n",
       "    }\n",
       "</style>\n",
       "<table border=\"1\" class=\"dataframe\">\n",
       "  <thead>\n",
       "    <tr style=\"text-align: right;\">\n",
       "      <th></th>\n",
       "    </tr>\n",
       "  </thead>\n",
       "  <tbody>\n",
       "  </tbody>\n",
       "</table>\n",
       "</div>"
      ],
      "text/plain": [
       "Empty DataFrame\n",
       "Columns: []\n",
       "Index: []"
      ]
     },
     "execution_count": 29,
     "metadata": {},
     "output_type": "execute_result"
    }
   ],
   "source": [
    "df_final"
   ]
  },
  {
   "cell_type": "code",
   "execution_count": null,
   "metadata": {},
   "outputs": [],
   "source": []
  }
 ],
 "metadata": {
  "kernelspec": {
   "display_name": "Python 3",
   "language": "python",
   "name": "python3"
  },
  "language_info": {
   "codemirror_mode": {
    "name": "ipython",
    "version": 3
   },
   "file_extension": ".py",
   "mimetype": "text/x-python",
   "name": "python",
   "nbconvert_exporter": "python",
   "pygments_lexer": "ipython3",
   "version": "3.7.3"
  }
 },
 "nbformat": 4,
 "nbformat_minor": 4
}
